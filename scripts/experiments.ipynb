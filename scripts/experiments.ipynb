{
 "cells": [
  {
   "cell_type": "code",
   "execution_count": null,
   "metadata": {},
   "outputs": [],
   "source": [
    "prompt = \"\"\"\n",
    "Answer should strictly be a tuple with two elements:\n",
    "\n",
    "category: EMD if relevant, otherwise no.\n",
    "reasoning: Provide a one-line explanation of about 50 words, without using inverted commas internally.\"\"\""
   ]
  }
 ],
 "metadata": {
  "language_info": {
   "name": "python"
  }
 },
 "nbformat": 4,
 "nbformat_minor": 2
}
